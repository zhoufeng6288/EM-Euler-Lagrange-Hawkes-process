{
 "cells": [
  {
   "cell_type": "code",
   "execution_count": 1,
   "metadata": {},
   "outputs": [],
   "source": [
    "from scipy.stats import expon\n",
    "from scipy.stats import uniform\n",
    "from scipy.stats import multinomial\n",
    "import numpy as np\n",
    "import matplotlib.pyplot as plt\n",
    "from scipy import optimize\n",
    "from scipy.linalg import sqrtm"
   ]
  },
  {
   "cell_type": "code",
   "execution_count": 2,
   "metadata": {},
   "outputs": [],
   "source": [
    "def intensity(t,m,history,M,parameters):   #left continue    beta_12 is influence from 2 to 1\n",
    "    mu=parameters[0][m]   #value\n",
    "    alpha=parameters[1][m]   #vector\n",
    "    beta=parameters[2][m]    #vector\n",
    "    intensity=0\n",
    "    for n in range(M):\n",
    "        for i in range(len(history[n])):\n",
    "            if history[n][i]>=t:\n",
    "                break\n",
    "            intensity+=alpha[n]*np.exp(-beta[n]*(t-history[n][i]))\n",
    "    return mu+intensity"
   ]
  },
  {
   "cell_type": "code",
   "execution_count": 3,
   "metadata": {},
   "outputs": [],
   "source": [
    "def multi_hawkes_simulation(mu,alpha,beta,M,T):\n",
    "    assert len(mu)==len(alpha[0])==len(beta[0])==M\n",
    "    t=0\n",
    "    parameters=[mu,alpha,beta]\n",
    "    jump=[0]*M\n",
    "    points_hawkes=[]\n",
    "    for i in range(M):\n",
    "        points_hawkes.append([])\n",
    "    while(t<T):\n",
    "        intensity_sup=sum(intensity(t,m,points_hawkes,M,parameters)+jump[m] for m in range(M))\n",
    "        r=expon.rvs(scale=1/intensity_sup) #scale=1/lamda\n",
    "        t+=r\n",
    "        D=uniform.rvs(loc=0,scale=1)\n",
    "        if D*intensity_sup<=sum(intensity(t,m,points_hawkes,M,parameters) for m in range(M)):\n",
    "            sum_intensity=sum(intensity(t,m,points_hawkes,M,parameters) for m in range(M))\n",
    "            k=list(multinomial.rvs(1,[intensity(t,m,points_hawkes,M,parameters)/sum_intensity for m in range(M)])).index(1)\n",
    "            points_hawkes[k].append(t)\n",
    "            jump=np.array(alpha)[:,k]\n",
    "        else:\n",
    "            jump=[0]*M\n",
    "    if points_hawkes[k][-1]>T:\n",
    "        del points_hawkes[k][-1]\n",
    "    return points_hawkes"
   ]
  },
  {
   "cell_type": "code",
   "execution_count": 136,
   "metadata": {},
   "outputs": [],
   "source": [
    "T=500"
   ]
  },
  {
   "cell_type": "code",
   "execution_count": 137,
   "metadata": {},
   "outputs": [],
   "source": [
    "M=2"
   ]
  },
  {
   "cell_type": "code",
   "execution_count": 138,
   "metadata": {},
   "outputs": [],
   "source": [
    "mu=[0.5,0.5]\n",
    "alpha=[[1,0.5],[0.5,1]]\n",
    "beta=[[2,2],[2,2]]\n",
    "parameters=[mu,alpha,beta]"
   ]
  },
  {
   "cell_type": "code",
   "execution_count": 139,
   "metadata": {},
   "outputs": [],
   "source": [
    "points_hawkes=multi_hawkes_simulation(mu,alpha,beta,M,T)"
   ]
  },
  {
   "cell_type": "code",
   "execution_count": 140,
   "metadata": {},
   "outputs": [
    {
     "data": {
      "text/plain": [
       "(895, 928)"
      ]
     },
     "execution_count": 140,
     "metadata": {},
     "output_type": "execute_result"
    }
   ],
   "source": [
    "len(points_hawkes[0]),len(points_hawkes[1])"
   ]
  },
  {
   "cell_type": "code",
   "execution_count": 141,
   "metadata": {},
   "outputs": [
    {
     "data": {
      "image/png": "[encoded data removed]",
      "text/plain": [
       "<Figure size 360x288 with 1 Axes>"
      ]
     },
     "metadata": {
      "needs_background": "light"
     },
     "output_type": "display_data"
    }
   ],
   "source": [
    "plt.figure(1,figsize=(5,4))               \n",
    "plt.subplot(1,1,1)             # points position\n",
    "for m in range(M):\n",
    "    plt.plot([0,T],[m,m],'r-',lw=1,alpha=0.6)\n",
    "    plt.plot(points_hawkes[m],[m]*len(points_hawkes[m]),linestyle='None', marker='|', markersize=10,label=('hawkes %s'%(m+1)))\n",
    "plt.title('multivariate hawkes process')\n",
    "plt.ylim(-1,2)\n",
    "plt.legend(loc='best',frameon=0)\n",
    "plt.show()"
   ]
  },
  {
   "cell_type": "code",
   "execution_count": 14,
   "metadata": {},
   "outputs": [],
   "source": [
    "def negtiveloglikelyhood_multi(parameters, times, T, M):     #calculate -loglikelyhood for >=2D Hawkes\n",
    "    mu=parameters[0]\n",
    "    alpha=parameters[1]\n",
    "    beta=parameters[2]\n",
    "    \n",
    "    timedifference=[[]]*M\n",
    "    for m in range(M):\n",
    "        times[m]=np.array(times[m])\n",
    "        timedifference[m]=T-times[m] #T-t0...T-t(n-1)\n",
    "    \n",
    "    secondsum=[0]*M\n",
    "    timeexponential=[[]]*M\n",
    "    for m in range(M):\n",
    "        for n in range(M):\n",
    "            timeexponential[n]=np.exp(-beta[m][n]*timedifference[n])-1\n",
    "        secondsum[m]=sum(alpha[m][n]/beta[m][n]*sum(timeexponential[n]) for n in range(M))\n",
    "        \n",
    "    firstsum=0\n",
    "    for m in range(M):\n",
    "        for t in times[m]:\n",
    "            temp=intensity(t,m,times,M,parameters)\n",
    "            if temp<0.00001: temp=0.00001\n",
    "            firstsum+=np.log(temp)\n",
    "    \n",
    "    negtivelogl=0\n",
    "    for m in range(M):\n",
    "        negtivelogl+=-mu[m]*T+secondsum[m]\n",
    "    negtivelogl=-(firstsum+negtivelogl)\n",
    "    return negtivelogl"
   ]
  },
  {
   "cell_type": "code",
   "execution_count": 15,
   "metadata": {},
   "outputs": [],
   "source": [
    "def negtiveloglikelyhood_multi_1(parameter_list, times, T, M): # all the parameters are in a 1-D list. mu_0 mu_1 alpha...beta...\n",
    "    assert len(parameter_list)==M*M*2+M, 'Number of parameters and number of dimensions do not match.'\n",
    "    \n",
    "    mu=np.zeros((M,1))\n",
    "    alpha=np.zeros((M,M))\n",
    "    beta=np.zeros((M,M))\n",
    "    for m in range(M):\n",
    "        mu[m]=parameter_list[m]\n",
    "        for n in range(M):\n",
    "            alpha[m][n]=parameter_list[(m+1)*M+n]\n",
    "            beta[m][n]=parameter_list[(m+M+1)*M+n]\n",
    "    \n",
    "    return negtiveloglikelyhood_multi([mu,alpha,beta], times, T, M)"
   ]
  },
  {
   "cell_type": "code",
   "execution_count": 16,
   "metadata": {},
   "outputs": [
    {
     "name": "stdout",
     "output_type": "stream",
     "text": [
      "Optimization terminated successfully.    (Exit mode 0)\n",
      "            Current function value: 64.86077030243598\n",
      "            Iterations: 23\n",
      "            Function evaluations: 291\n",
      "            Gradient evaluations: 23\n"
     ]
    }
   ],
   "source": [
    "init=[0.5,0.5,0.5,0.5,0.5,0.5,2,2,2,2]\n",
    "res=optimize.minimize(negtiveloglikelyhood_multi_1, init, args=(points_hawkes,T,M), method='SLSQP', \\\n",
    "        bounds=((0,2),(0,2),(0,2),(0,2),(0,2),(0,2),(0.01,3),(0.01,3),(0.01,3),(0.01,3)), options={'disp': True})"
   ]
  },
  {
   "cell_type": "code",
   "execution_count": 17,
   "metadata": {},
   "outputs": [
    {
     "data": {
      "text/plain": [
       "array([0.09140795, 0.56794802, 0.34687369, 0.93656264, 0.36599096,\n",
       "       1.19962958, 0.60926453, 3.        , 1.336883  , 2.49344049])"
      ]
     },
     "execution_count": 17,
     "metadata": {},
     "output_type": "execute_result"
    }
   ],
   "source": [
    "res.x"
   ]
  },
  {
   "cell_type": "markdown",
   "metadata": {},
   "source": [
    "## EM-Euler-Lagarangian"
   ]
  },
  {
   "cell_type": "code",
   "execution_count": 366,
   "metadata": {},
   "outputs": [],
   "source": [
    "def multidimension_to_onedimension(points_hawkes):\n",
    "    M=len(points_hawkes)\n",
    "    index=[]\n",
    "    for i in range(M):\n",
    "        index+=[i]*len(points_hawkes[i])\n",
    "    points_oned=[]\n",
    "    for i in range(M):\n",
    "        points_oned+=list(points_hawkes[i])\n",
    "    return np.array(sorted(zip(points_oned,index)),dtype=object)"
   ]
  },
  {
   "cell_type": "code",
   "execution_count": 367,
   "metadata": {},
   "outputs": [],
   "source": [
    "points_oned=multidimension_to_onedimension(points_hawkes)"
   ]
  },
  {
   "cell_type": "markdown",
   "metadata": {},
   "source": [
    "## initialize P a and g_d(\\tau)"
   ]
  },
  {
   "cell_type": "code",
   "execution_count": 368,
   "metadata": {},
   "outputs": [],
   "source": [
    "def ini_P(points_oned,D,T_phi): ## D is the num of base functions\n",
    "    N=len(points_oned)\n",
    "    P=np.zeros((N,N,D))\n",
    "    for i in range(N):                    # initial value of P\n",
    "        for j in range(i+1):\n",
    "            tij=points_oned[i][0]-points_oned[j][0]\n",
    "            if tij>=T_phi:continue\n",
    "            else:\n",
    "                P[i][j:i+1]=np.random.dirichlet([1]*(i-j+1)*D).reshape(i+1-j,D)\n",
    "                break\n",
    "        temp=sum(P[i][i])\n",
    "        P[i][i]=np.zeros(D)\n",
    "        P[i][i][0]=temp\n",
    "    return P"
   ]
  },
  {
   "cell_type": "code",
   "execution_count": 369,
   "metadata": {},
   "outputs": [],
   "source": [
    "def ini_a(U,D): ## U is the dimension of Hawkes process\n",
    "    a=np.full((U,U,D),0.5)\n",
    "    return a"
   ]
  },
  {
   "cell_type": "code",
   "execution_count": 370,
   "metadata": {},
   "outputs": [],
   "source": [
    "def ini_g_tau(D,B): ## B is the num of bins on T_phi\n",
    "    g_tau=np.repeat([np.linspace(1,0.0001,B)],D,axis=0)\n",
    "#     g_tau=np.full((D,B),0.5)\n",
    "    return g_tau"
   ]
  },
  {
   "cell_type": "code",
   "execution_count": 459,
   "metadata": {},
   "outputs": [],
   "source": [
    "def EM_Euler_Lagarangian(points_oned,P,a,g_tau,alpha,T,T_phi,num_iter): ## num is the number of iterations\n",
    "    N=len(points_oned) # num of points\n",
    "    M=len(a)           # num of dimensions of Hawkes process\n",
    "    D=len(g_tau)       # num of base functions\n",
    "    B=len(g_tau[0])    # num of bins on base function\n",
    "    delta_tau=T_phi/B\n",
    "    \n",
    "    for k in range(num_iter):\n",
    "        ## update for \\mu\n",
    "        mu=np.zeros(M)\n",
    "        for i in range(N):\n",
    "            mu[points_oned[i][1]]+=P[i][i][0]\n",
    "        mu=mu/T\n",
    "\n",
    "        ## update for a\n",
    "        for u in range(M):\n",
    "            for v in range(M):\n",
    "                for d in range(D):\n",
    "                    P_u_v_d=0\n",
    "                    for i in range(1,N):\n",
    "                        if points_oned[i][1]==u:\n",
    "                            for j in range(i):\n",
    "                                if points_oned[j][1]==v:\n",
    "                                    P_u_v_d+=P[i][j][d]\n",
    "                    a_u_v_d_2=a[u][v][d]*P_u_v_d/(sum(delta_tau*g_tau[d])*sum(points_oned[:,1]==v)+2*alpha*a[u][v][d])\n",
    "                    assert sum(delta_tau*g_tau[d])>0, print(sum(delta_tau*g_tau[d]))\n",
    "                    assert a_u_v_d_2>=0, print(a[u][v][d],P_u_v_d,sum(delta_tau*g_tau[d]),sum(points_oned[:,1]==v))\n",
    "                    a[u][v][d]=np.sqrt(a_u_v_d_2)\n",
    "\n",
    "        ## update for g_tau\n",
    "        C=np.zeros((D,B))\n",
    "        H=np.zeros((D,B))\n",
    "        for d in range(D):\n",
    "            for m in range(B):\n",
    "                for u in range(M):\n",
    "                    for i in range(N):\n",
    "                        C[d][m]+=a[u][points_oned[i][1]][d]\n",
    "                C[d][m]=C[d][m]/g_tau[d][m]\n",
    "                for i in range(1,N):\n",
    "                    for j in range(i):\n",
    "                        tau_ij=points_oned[i][0]-points_oned[j][0]\n",
    "                        if tau_ij>=(m+1)*delta_tau:\n",
    "                            continue\n",
    "                        elif tau_ij<m*delta_tau:\n",
    "                            break\n",
    "                        else:\n",
    "                            H[d][m]+=P[i][j][d]\n",
    "                H[d][m]=H[d][m]/delta_tau\n",
    "        if alpha!=0:\n",
    "            E=4*alpha/delta_tau**2+C\n",
    "            F=np.array([-(g_tau[:,m-1]+g_tau[:,m+1])*2*alpha/delta_tau**2 for m in range(1,B-1)]).T\n",
    "            F=np.c_[ np.zeros(D), F, np.zeros(D) ]\n",
    "            assert len(F[0])==B, 'length is not correct'\n",
    "            G=-H\n",
    "            for d in range(D):\n",
    "                ##update N-1:2 points\n",
    "                for m in range(B-2,0,-1):\n",
    "                    g_tau[d][m]=max((-F[d][m]+np.sqrt(F[d][m]**2-4*E[d][m]*G[d][m]))/2/E[d][m],0.0001)\n",
    "                ##update the first point\n",
    "                g_tau[d][0]=max(-(H[d][1]/g_tau[d][1]-C[d][1]*g_tau[d][1])*delta_tau**2/2/alpha-g_tau[d][2]+2*g_tau[d][1],0.0001)\n",
    "        else:\n",
    "            g_tau[d]=np.sqrt(H[d]/C[d])\n",
    "\n",
    "\n",
    "        ##update for P\n",
    "        for i in range(N):\n",
    "            intensity_total=0\n",
    "            for j in range(i):\n",
    "                tau_ij=points_oned[i][0]-points_oned[j][0]\n",
    "                if tau_ij>=T_phi: continue\n",
    "                for d in range(D):\n",
    "                    intensity_total+=a[points_oned[i][1]][points_oned[j][1]][d]*g_tau[d][int(tau_ij/delta_tau)]\n",
    "            intensity_total+=mu[points_oned[i][1]]\n",
    "\n",
    "            P[i][i][0]=mu[points_oned[i][1]]/intensity_total\n",
    "            for j in range(i):\n",
    "                tau_ij=points_oned[i][0]-points_oned[j][0]\n",
    "                if tau_ij>=T_phi: continue\n",
    "                for d in range(D):\n",
    "                    P[i][j][d]=a[points_oned[i][1]][points_oned[j][1]][d]*g_tau[d][int(tau_ij/delta_tau)]/intensity_total\n",
    "    return mu,a,g_tau"
   ]
  },
  {
   "cell_type": "code",
   "execution_count": 460,
   "metadata": {},
   "outputs": [],
   "source": [
    "D=1\n",
    "B=100   ## D is the num of base functions, B is the num of bins"
   ]
  },
  {
   "cell_type": "code",
   "execution_count": 461,
   "metadata": {},
   "outputs": [],
   "source": [
    "T_phi=6"
   ]
  },
  {
   "cell_type": "code",
   "execution_count": 466,
   "metadata": {},
   "outputs": [],
   "source": [
    "p=ini_P(points_oned,D,T_phi)\n",
    "a=ini_a(M,D)\n",
    "g_tau=ini_g_tau(D,B)"
   ]
  },
  {
   "cell_type": "code",
   "execution_count": null,
   "metadata": {},
   "outputs": [],
   "source": [
    "mu,a,g_tau=EM_Euler_Lagarangian(points_oned,p,a,g_tau,2,T,T_phi,50)"
   ]
  },
  {
   "cell_type": "code",
   "execution_count": null,
   "metadata": {},
   "outputs": [],
   "source": [
    "plt.figure(1,figsize=(8,6))\n",
    "axs=plt.subplot(221)\n",
    "axs.plot(np.linspace(0,6,100),1*np.exp(-2*np.linspace(0,6,100)),label='$\\phi_{11}$')\n",
    "axs.plot(np.linspace(0,6,1000,endpoint=False),[1*np.exp(-2*np.linspace(T_phi/len(g_tau[0])/2,T_phi-T_phi/len(g_tau[0])/2,len(g_tau[0])))[int(xx/(T_phi/len(g_tau[0])))] for xx in np.linspace(0,6,1000,endpoint=False)],label='discrete $\\phi_{11}$')\n",
    "axs.plot(np.linspace(0,6,1000,endpoint=False),[a[0][0][0]*g_tau[0][int(xx/(T_phi/len(g_tau[0])))] for xx in np.linspace(0,6,1000,endpoint=False)],label='estimated $\\phi_{11}$')\n",
    "plt.ylim(0,1.2)\n",
    "plt.legend()\n",
    "axs=plt.subplot(222)\n",
    "axs.plot(np.linspace(0,6,100),0.5*np.exp(-2*np.linspace(0,6,100)),label='$\\phi_{12}$')\n",
    "axs.plot(np.linspace(0,6,1000,endpoint=False),[0.5*np.exp(-2*np.linspace(T_phi/len(g_tau[0])/2,T_phi-T_phi/len(g_tau[0])/2,len(g_tau[0])))[int(xx/(T_phi/len(g_tau[0])))] for xx in np.linspace(0,6,1000,endpoint=False)],label='discrete $\\phi_{12}$')\n",
    "axs.plot(np.linspace(0,6,1000,endpoint=False),[a[0][1][0]*g_tau[0][int(xx/(T_phi/len(g_tau[0])))] for xx in np.linspace(0,6,1000,endpoint=False)],label='estimated $\\phi_{12}$')\n",
    "plt.ylim(0,1.2)\n",
    "plt.legend()\n",
    "axs=plt.subplot(223)\n",
    "axs.plot(np.linspace(0,6,100),0.5*np.exp(-2*np.linspace(0,6,100)),label='$\\phi_{21}$')\n",
    "axs.plot(np.linspace(0,6,1000,endpoint=False),[0.5*np.exp(-2*np.linspace(T_phi/len(g_tau[0])/2,T_phi-T_phi/len(g_tau[0])/2,len(g_tau[0])))[int(xx/(T_phi/len(g_tau[0])))] for xx in np.linspace(0,6,1000,endpoint=False)],label='discrete $\\phi_{21}$')\n",
    "axs.plot(np.linspace(0,6,1000,endpoint=False),[a[1][0][0]*g_tau[0][int(xx/(T_phi/len(g_tau[0])))] for xx in np.linspace(0,6,1000,endpoint=False)],label='estimated $\\phi_{21}$')\n",
    "plt.ylim(0,1.2)\n",
    "plt.legend()\n",
    "axs=plt.subplot(224)\n",
    "axs.plot(np.linspace(0,6,100),1*np.exp(-2*np.linspace(0,6,100)),label='$\\phi_{22}$')\n",
    "axs.plot(np.linspace(0,6,1000,endpoint=False),[1*np.exp(-2*np.linspace(T_phi/len(g_tau[0])/2,T_phi-T_phi/len(g_tau[0])/2,len(g_tau[0])))[int(xx/(T_phi/len(g_tau[0])))] for xx in np.linspace(0,6,1000,endpoint=False)],label='discrete $\\phi_{22}$')\n",
    "axs.plot(np.linspace(0,6,1000,endpoint=False),[a[1][1][0]*g_tau[0][int(xx/(T_phi/len(g_tau[0])))] for xx in np.linspace(0,6,1000,endpoint=False)],label='estimated $\\phi_{22}$')\n",
    "plt.ylim(0,1.2)\n",
    "plt.legend()\n",
    "plt.show()"
   ]
  },
  {
   "cell_type": "code",
   "execution_count": null,
   "metadata": {},
   "outputs": [],
   "source": []
  },
  {
   "cell_type": "code",
   "execution_count": null,
   "metadata": {},
   "outputs": [],
   "source": []
  },
  {
   "cell_type": "code",
   "execution_count": null,
   "metadata": {},
   "outputs": [],
   "source": []
  },
  {
   "cell_type": "markdown",
   "metadata": {},
   "source": [
    "## searching for optimal alpha"
   ]
  },
  {
   "cell_type": "code",
   "execution_count": 428,
   "metadata": {},
   "outputs": [
    {
     "name": "stdout",
     "output_type": "stream",
     "text": [
      "Wall time: 5h 37s\n"
     ]
    }
   ],
   "source": [
    "%%time\n",
    "error_list=[]\n",
    "loss=10000\n",
    "for alpha in range(0,300,10):\n",
    "    mu,a,g_tau=EM_Euler_Lagarangian(points_oned,p,a,g_tau,alpha,T,T_phi,50)\n",
    "    error_11=sum((np.array([a[0][0][0]*g_tau[0][int(xx/(T_phi/len(g_tau[0])))] for xx in np.linspace(0,6,100,endpoint=False)])-1*np.exp(-2*np.linspace(0,6,100,endpoint=False)))**2)/100\n",
    "    error_12=sum((np.array([a[0][1][0]*g_tau[0][int(xx/(T_phi/len(g_tau[0])))] for xx in np.linspace(0,6,100,endpoint=False)])-0.5*np.exp(-2*np.linspace(0,6,100,endpoint=False)))**2)/100\n",
    "    error_21=sum((np.array([a[1][0][0]*g_tau[0][int(xx/(T_phi/len(g_tau[0])))] for xx in np.linspace(0,6,100,endpoint=False)])-0.5*np.exp(-2*np.linspace(0,6,100,endpoint=False)))**2)/100\n",
    "    error_22=sum((np.array([a[1][1][0]*g_tau[0][int(xx/(T_phi/len(g_tau[0])))] for xx in np.linspace(0,6,100,endpoint=False)])-1*np.exp(-2*np.linspace(0,6,100,endpoint=False)))**2)/100\n",
    "    error=(error_11+error_12+error_21+error_22)/4\n",
    "    error_list.append(error)\n",
    "    if error<loss:\n",
    "        loss=error\n",
    "        mu_final,a_final,g_tau_final,alpha_final=mu,a,g_tau,alpha"
   ]
  },
  {
   "cell_type": "code",
   "execution_count": 426,
   "metadata": {},
   "outputs": [
    {
     "data": {
      "image/png": "[encoded data removed]",
      "text/plain": [
       "<Figure size 576x432 with 4 Axes>"
      ]
     },
     "metadata": {
      "needs_background": "light"
     },
     "output_type": "display_data"
    }
   ],
   "source": [
    "plt.figure(1,figsize=(8,6))\n",
    "axs=plt.subplot(221)\n",
    "axs.plot(np.linspace(0,6,100),1*np.exp(-2*np.linspace(0,6,100)),label='$\\phi_{11}$')\n",
    "axs.plot(np.linspace(0,6,1000,endpoint=False),[1*np.exp(-2*np.linspace(T_phi/len(g_tau[0])/2,T_phi-T_phi/len(g_tau[0])/2,len(g_tau[0])))[int(xx/(T_phi/len(g_tau[0])))] for xx in np.linspace(0,6,1000,endpoint=False)])\n",
    "axs.plot(np.linspace(0,6,1000,endpoint=False),[a_final[0][0][0]*g_tau_final[0][int(xx/(T_phi/len(g_tau_final[0])))] for xx in np.linspace(0,6,1000,endpoint=False)],label='estimated $\\phi_{11}$')\n",
    "plt.ylim(0,1.2)\n",
    "plt.legend()\n",
    "axs=plt.subplot(222)\n",
    "axs.plot(np.linspace(0,6,100),0.5*np.exp(-2*np.linspace(0,6,100)),label='$\\phi_{12}$')\n",
    "axs.plot(np.linspace(0,6,1000,endpoint=False),[0.5*np.exp(-2*np.linspace(T_phi/len(g_tau[0])/2,T_phi-T_phi/len(g_tau[0])/2,len(g_tau[0])))[int(xx/(T_phi/len(g_tau[0])))] for xx in np.linspace(0,6,1000,endpoint=False)])\n",
    "axs.plot(np.linspace(0,6,1000,endpoint=False),[a_final[0][1][0]*g_tau_final[0][int(xx/(T_phi/len(g_tau_final[0])))] for xx in np.linspace(0,6,1000,endpoint=False)],label='estimated $\\phi_{12}$')\n",
    "plt.ylim(0,1.2)\n",
    "plt.legend()\n",
    "axs=plt.subplot(223)\n",
    "axs.plot(np.linspace(0,6,100),0.5*np.exp(-2*np.linspace(0,6,100)),label='$\\phi_{21}$')\n",
    "axs.plot(np.linspace(0,6,1000,endpoint=False),[0.5*np.exp(-2*np.linspace(T_phi/len(g_tau[0])/2,T_phi-T_phi/len(g_tau[0])/2,len(g_tau[0])))[int(xx/(T_phi/len(g_tau[0])))] for xx in np.linspace(0,6,1000,endpoint=False)])\n",
    "axs.plot(np.linspace(0,6,1000,endpoint=False),[a_final[1][0][0]*g_tau_final[0][int(xx/(T_phi/len(g_tau_final[0])))] for xx in np.linspace(0,6,1000,endpoint=False)],label='estimated $\\phi_{21}$')\n",
    "plt.ylim(0,1.2)\n",
    "plt.legend()\n",
    "axs=plt.subplot(224)\n",
    "axs.plot(np.linspace(0,6,100),1*np.exp(-2*np.linspace(0,6,100)),label='$\\phi_{22}$')\n",
    "axs.plot(np.linspace(0,6,1000,endpoint=False),[1*np.exp(-2*np.linspace(T_phi/len(g_tau[0])/2,T_phi-T_phi/len(g_tau[0])/2,len(g_tau[0])))[int(xx/(T_phi/len(g_tau[0])))] for xx in np.linspace(0,6,1000,endpoint=False)])\n",
    "axs.plot(np.linspace(0,6,1000,endpoint=False),[a_final[1][1][0]*g_tau_final[0][int(xx/(T_phi/len(g_tau_final[0])))] for xx in np.linspace(0,6,1000,endpoint=False)],label='estimated $\\phi_{22}$')\n",
    "plt.ylim(0,1.2)\n",
    "plt.legend()\n",
    "plt.show()"
   ]
  },
  {
   "cell_type": "code",
   "execution_count": null,
   "metadata": {},
   "outputs": [],
   "source": []
  }
 ],
 "metadata": {
  "kernelspec": {
   "display_name": "Python 3",
   "language": "python",
   "name": "python3"
  },
  "language_info": {
   "codemirror_mode": {
    "name": "ipython",
    "version": 3
   },
   "file_extension": ".py",
   "mimetype": "text/x-python",
   "name": "python",
   "nbconvert_exporter": "python",
   "pygments_lexer": "ipython3",
   "version": "3.6.7"
  }
 },
 "nbformat": 4,
 "nbformat_minor": 2
}
